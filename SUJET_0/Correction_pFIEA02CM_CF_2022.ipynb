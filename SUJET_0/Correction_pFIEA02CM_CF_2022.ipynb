{
 "cells": [
  {
   "cell_type": "code",
   "execution_count": 1,
   "id": "1344059a-a165-4c9e-9d1a-b30a878f3498",
   "metadata": {},
   "outputs": [],
   "source": [
    "# Forcer un reset de jupyterlab : effacer la mémoire\n",
    "%reset -f       \n",
    "# Afficher les graphes dans des figures externes\n",
    "%matplotlib qt  "
   ]
  },
  {
   "cell_type": "code",
   "execution_count": 2,
   "id": "f04dd175-75a4-4b47-9864-992899d234ee",
   "metadata": {},
   "outputs": [],
   "source": [
    "# Imports nécessaires\n",
    "import numpy as np\n",
    "import matplotlib.pyplot as plt\n",
    "from scipy.signal import lfilter\n",
    "from scipy.signal import butter\n",
    "from scipy.io.wavfile import read\n",
    "import sounddevice as sd\n",
    "# Fermer toutes les fenêtres graphiques\n",
    "plt.close()"
   ]
  },
  {
   "cell_type": "code",
   "execution_count": 3,
   "id": "98596e5a-824b-4406-9aa1-933c58d990a3",
   "metadata": {},
   "outputs": [],
   "source": [
    "# I.1 Lecture du fichier de données\n",
    "fs, signal = read('13918_AV.wav')\n",
    "# Normalisation des amplitudes dans l'intervallez [-1, 1]\n",
    "# Python ne se comporte pas exactement comme Matlab ici...\n",
    "signal = signal / np.max(signal)"
   ]
  },
  {
   "cell_type": "code",
   "execution_count": 4,
   "id": "38aa5018-c7b9-4b2c-9b43-bd778ee8aeab",
   "metadata": {},
   "outputs": [],
   "source": [
    "# I.2 Création du vecteur temporel\n",
    "nbSamples = len(signal)\n",
    "Ts = 1/fs\n",
    "t = np.arange(0, nbSamples*Ts, Ts)"
   ]
  },
  {
   "cell_type": "code",
   "execution_count": 5,
   "id": "e371c0c5-675b-45c2-bb84-bfd71c60ed58",
   "metadata": {},
   "outputs": [],
   "source": [
    "# I.3 Affichage du signal\n",
    "plt.plot(t, signal);"
   ]
  },
  {
   "cell_type": "code",
   "execution_count": 6,
   "id": "5cbed15a-bba3-4ed3-a8ca-bd1d72186504",
   "metadata": {},
   "outputs": [],
   "source": [
    "## I.4 Titre et axes\n",
    "plt.title('Signal signal.wav');\n",
    "plt.xlabel('temps (s)');\n",
    "plt.ylabel('Amplitude');"
   ]
  },
  {
   "cell_type": "code",
   "execution_count": 7,
   "id": "0579823d-30f2-4236-a61e-985dbcce4924",
   "metadata": {},
   "outputs": [],
   "source": [
    "# I.5 Calcul FFT\n",
    "fftSignal = np.fft.fftshift(np.fft.fft(signal)/nbSamples);"
   ]
  },
  {
   "cell_type": "code",
   "execution_count": 8,
   "id": "25cef55d-15fb-4907-8a39-6f242b8d5ae3",
   "metadata": {},
   "outputs": [],
   "source": [
    "# I.6 Calcul module et phase FFT\n",
    "magFFTSignal = np.abs(fftSignal);\n",
    "phaseFFTSignal = np.angle(fftSignal);"
   ]
  },
  {
   "cell_type": "code",
   "execution_count": 9,
   "id": "6d2d454b-0181-43d7-896a-29c12bc49b8c",
   "metadata": {},
   "outputs": [],
   "source": [
    "# I.7 Création du vecteur fréquentiel (bilatéral)\n",
    "df = fs/nbSamples\n",
    "if nbSamples % 2 == 0:\n",
    "    # nbSamples pair\n",
    "    f = np.arange(-fs/2, fs/2, df)\n",
    "else:\n",
    "    # nbSamples impair\n",
    "    f = np.arange(-fs/2 + df/2, fs/2 + df/2, df)"
   ]
  },
  {
   "cell_type": "code",
   "execution_count": 10,
   "id": "029cf676-2525-4209-ba10-e47ff8c58a04",
   "metadata": {},
   "outputs": [],
   "source": [
    "## I.8 Affichage module FFT\n",
    "plt.figure(2)\n",
    "plt.subplot(2, 1, 1)\n",
    "plt.plot(f, magFFTSignal)\n",
    "plt.title(\"Spectre bilatéral d'amplitude du signal\")\n",
    "plt.xlabel('fréquence (Hz)')\n",
    "plt.ylabel('Amplitude');"
   ]
  },
  {
   "cell_type": "code",
   "execution_count": 11,
   "id": "2e19ab0d-da2e-480b-ba56-32e75c1a24b6",
   "metadata": {},
   "outputs": [],
   "source": [
    "# I.9 Affichage phase FFT\n",
    "plt.subplot(2, 1, 2);\n",
    "plt.plot(f, phaseFFTSignal);\n",
    "plt.title('Spectre bilatéral de phase du signal');\n",
    "plt.xlabel('fréquence (Hz)');\n",
    "plt.ylabel('Phase en rad');"
   ]
  },
  {
   "cell_type": "code",
   "execution_count": 12,
   "id": "c8f36fea-4247-4e19-9591-9874670ea45c",
   "metadata": {},
   "outputs": [],
   "source": [
    "# I.10 Affichage phase FFT\n",
    "# sd.play(signal, fs)\n",
    "# sd.wait()\n",
    "# Conversation et respiration à supprimer..."
   ]
  },
  {
   "cell_type": "code",
   "execution_count": 13,
   "id": "94b8a93b-7d61-4fb1-a23f-9acbfe7ff583",
   "metadata": {},
   "outputs": [],
   "source": [
    "# II.1 Filtre récursif ?\n",
    "# Il s'agit d'un filtre récursif puisque des échantillons passés de\n",
    "# la sortie sont utilisés pour calculer la sortie à l'instant courant"
   ]
  },
  {
   "cell_type": "code",
   "execution_count": 14,
   "id": "59fab105-a49f-420f-bc38-7753fa9d2522",
   "metadata": {},
   "outputs": [],
   "source": [
    "# II.2 Calcul de la TZ de l'?quation aux diff?rences\n",
    "# S(z) + a1.z^(-1) S(z) + a2.z^(-2) S(z) + a3.z^(-3) S(z) + a4.z^(-4) S(z)  = b1.E(z) + b2.z^(-1) E(z) + b3.z^(-2) E(z) + b4.z^(-3) E(z) + b5.z^(-4) E(z)"
   ]
  },
  {
   "cell_type": "code",
   "execution_count": 15,
   "id": "ab58922e-a20e-4f9c-9347-746ed890f2a7",
   "metadata": {},
   "outputs": [],
   "source": [
    "# II.3 Expression de la fonction de transfert en z\n",
    "# H(z) = S(z)/E(z) = (b1 + b2.z^(-1) + b3.z^(-2) + b4.z^(-3) + b5.z^(-4)) / (1 + a1.z^(-1) + a2.z^(-2) + a3.z^(-3) + a4.z^(-4))"
   ]
  },
  {
   "cell_type": "code",
   "execution_count": 16,
   "id": "69c0b14e-cda9-4dbf-88c9-aa32d5868cac",
   "metadata": {},
   "outputs": [],
   "source": [
    "# II.4 Les vecteurs A et B pour la fonction lfilter sont donc de la forme\n",
    "# A = [1, a1, a2, a3, a4]\n",
    "# B = [b1, b2, b3, b4, b5]"
   ]
  },
  {
   "cell_type": "code",
   "execution_count": 17,
   "id": "4ebe6a6c-d30e-4645-a94b-318af75e16ab",
   "metadata": {},
   "outputs": [],
   "source": [
    "# II.5 Filtrage du son\n",
    "# Les vecteurs des coefficients A et B sont calculés avec la fonction butter\n",
    "[B, A] = butter(4, 120/(fs/2), btype = 'low', analog=False)\n",
    "# Le filtrage est effectué avec la fonction lfilter\n",
    "filteredSignal = lfilter(B, A, signal);"
   ]
  },
  {
   "cell_type": "code",
   "execution_count": 18,
   "id": "9a69b197-f5d9-4f5b-93c2-aedfdce870b9",
   "metadata": {},
   "outputs": [],
   "source": [
    "# II.6 Affichage du signal filtré\n",
    "plt.figure(3)\n",
    "plt.plot(t, filteredSignal)\n",
    "plt.title('Signal filtré')\n",
    "plt.xlabel('temps (s)')\n",
    "plt.ylabel('Amplitude');"
   ]
  },
  {
   "cell_type": "code",
   "execution_count": 19,
   "id": "e6f85c17-13ae-4109-9da0-e01224291477",
   "metadata": {},
   "outputs": [],
   "source": [
    "# II.7 Spectres monolatéraux module et phase signal filtré\n",
    "fftFilteredSignal = np.fft.fft(filteredSignal)/nbSamples;\n",
    "magFFTFilteredSignal = np.abs(fftFilteredSignal);\n",
    "phaseFFTFilteredSignal = np.angle(fftFilteredSignal);\n",
    "if nbSamples % 2 == 0:\n",
    "    # nbSamples pair\n",
    "    N = nbSamples//2\n",
    "    f = np.arange(0, fs/2, df)\n",
    "else:\n",
    "    # nbSamples impair\n",
    "    N = (nbSamples + 1)//2\n",
    "    f = np.arange(0, fs/2 + df/2, df)\n",
    "plt.figure(4);\n",
    "plt.subplot(2, 1, 1);\n",
    "plt.plot(f, np.concatenate((magFFTFilteredSignal[0], 2*magFFTFilteredSignal[1:N]), axis = None))\n",
    "plt.title(\"Spectre monolatéral d'amplitude du signal filtré\");\n",
    "plt.xlabel('fréquence (Hz)');\n",
    "plt.ylabel('Amplitude');\n",
    "plt.subplot(2, 1, 2);\n",
    "plt.plot(f, phaseFFTFilteredSignal[0:N]);\n",
    "plt.title('Spectre monolatéral de phase du signal filtré');\n",
    "plt.xlabel('fréquence (Hz)');\n",
    "plt.ylabel('Phase en rad');"
   ]
  },
  {
   "cell_type": "code",
   "execution_count": 20,
   "id": "468745ec-f392-49bc-8908-0b84513d5a6e",
   "metadata": {},
   "outputs": [],
   "source": [
    "# II.8 Résultat\n",
    "#sd.play(filteredSignal, fs)\n",
    "#sd.wait()\n",
    "from scipy.signal import freqz\n",
    "fbis, h = freqz(B, A, worN = nbSamples, fs = fs);\n",
    "plt.figure(5)\n",
    "plt.plot(fbis, np.abs(h));\n",
    "plt.title('Réponse en fréquence du filtre');\n",
    "plt.xlabel('f Hz');\n",
    "plt.ylabel('Amplitude');\n",
    "# à l'écoute, les deux parasites ont été supprimés et on remarque que la réponse en\n",
    "# fréquence du filtre correspond bien à un passe bas dont la fréquence de\n",
    "# coupure à 120Hz correspond bien à un gain de 1/sqrt(2). Les fréquences\n",
    "# supérieures à 120Hz sont \"\"quasiment\" toutes supprimées du signal original."
   ]
  },
  {
   "cell_type": "code",
   "execution_count": null,
   "id": "171d0ccf-cd5a-41f3-a175-01103b173ac0",
   "metadata": {},
   "outputs": [],
   "source": []
  }
 ],
 "metadata": {
  "kernelspec": {
   "display_name": "Python 3 (ipykernel)",
   "language": "python",
   "name": "python3"
  },
  "language_info": {
   "codemirror_mode": {
    "name": "ipython",
    "version": 3
   },
   "file_extension": ".py",
   "mimetype": "text/x-python",
   "name": "python",
   "nbconvert_exporter": "python",
   "pygments_lexer": "ipython3",
   "version": "3.13.0"
  }
 },
 "nbformat": 4,
 "nbformat_minor": 5
}
